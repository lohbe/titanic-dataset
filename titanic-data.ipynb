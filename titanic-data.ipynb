{
 "cells": [
  {
   "cell_type": "markdown",
   "metadata": {},
   "source": [
    "## Introduction\n",
    "This report aims to communicate the exploration findings of the Titanic passenger data<sup>[1](#fn1)</sup> to determine possible factors influencing survivability. This dataset contains passenger information of 891 (out of 2224) passengers and crew on board the Titanic. `titanic-data.csv` was first downloaded from Udacity & cleansed for missing values.\n",
    "\n",
    "### Questions Posed\n",
    "- Who were the passengers on board the Titanic?\n",
    "- Does gender influence survivability?\n",
    "- Does passenger class influence survivability?\n",
    "- Does travel group size or number of family members influence survivability?\n",
    "- Does age influence survivability?\n",
    "\n",
    "### Investigation Method \n",
    "\n",
    "To answer the first questions - who were the passengers on-board the Titanic, an exploration of multiple variables in the dataset were conducted and detailed in the Exploration section. The first part of the exploration intends to discover the data captured, to assist with further investigation. With these initial findings, intermediate steps were taken to cluster / group the data for the treatment of subsequent questions.\n",
    "\n",
    "The subsequent questions attempt to find out if factors influencing survivability are strong. Both dependent variables (family/group size) and independent variables (gender and age) were analysed.\n",
    "\n",
    "Note that this reports aims to provide an exploration of the potential factors for further statistical analysis of significance.\n",
    "\n",
    "### Changelog\n",
    "\n",
    "v2.0\n",
    "- Refined the data-set questions/hypothesis\n",
    "\n",
    "v1.0\n",
    "- Initial submission\n",
    "\n",
    "### References\n",
    "<a name=\"fn1\">[1]</a>: [Titanic: Machine Learning from Disaster](https://www.kaggle.com/c/titanic/data)\n",
    "\n",
    "<a name=\"fn2\">[2]</a>: [Sinking of the RMS Titanic](https://en.wikipedia.org/wiki/Sinking_of_the_RMS_Titanic)\n",
    "\n",
    "<a name=\"fn3\">[3]</a>: [Titanic Fare Data](http://www.statisticalconsultants.co.nz/blog/titanic-fare-data.html)"
   ]
  },
  {
   "cell_type": "markdown",
   "metadata": {},
   "source": [
    "## Data Wrangling\n",
    "This section shows how the dataset was imported into Jupyter notebook and cleaned for analysis.\n",
    "\n",
    "### Importing Dataset\n",
    "`titanic-dataset.csv` was imported into Jupyter notebooks via Pandas."
   ]
  },
  {
   "cell_type": "code",
   "execution_count": 1,
   "metadata": {},
   "outputs": [
    {
     "data": {
      "text/html": [
       "<div>\n",
       "<style>\n",
       "    .dataframe thead tr:only-child th {\n",
       "        text-align: right;\n",
       "    }\n",
       "\n",
       "    .dataframe thead th {\n",
       "        text-align: left;\n",
       "    }\n",
       "\n",
       "    .dataframe tbody tr th {\n",
       "        vertical-align: top;\n",
       "    }\n",
       "</style>\n",
       "<table border=\"1\" class=\"dataframe\">\n",
       "  <thead>\n",
       "    <tr style=\"text-align: right;\">\n",
       "      <th></th>\n",
       "      <th>PassengerId</th>\n",
       "      <th>Survived</th>\n",
       "      <th>Pclass</th>\n",
       "      <th>Name</th>\n",
       "      <th>Sex</th>\n",
       "      <th>Age</th>\n",
       "      <th>SibSp</th>\n",
       "      <th>Parch</th>\n",
       "      <th>Ticket</th>\n",
       "      <th>Fare</th>\n",
       "      <th>Cabin</th>\n",
       "      <th>Embarked</th>\n",
       "    </tr>\n",
       "  </thead>\n",
       "  <tbody>\n",
       "    <tr>\n",
       "      <th>0</th>\n",
       "      <td>1</td>\n",
       "      <td>0</td>\n",
       "      <td>3</td>\n",
       "      <td>Braund, Mr. Owen Harris</td>\n",
       "      <td>male</td>\n",
       "      <td>22.0</td>\n",
       "      <td>1</td>\n",
       "      <td>0</td>\n",
       "      <td>A/5 21171</td>\n",
       "      <td>7.2500</td>\n",
       "      <td>NaN</td>\n",
       "      <td>S</td>\n",
       "    </tr>\n",
       "    <tr>\n",
       "      <th>1</th>\n",
       "      <td>2</td>\n",
       "      <td>1</td>\n",
       "      <td>1</td>\n",
       "      <td>Cumings, Mrs. John Bradley (Florence Briggs Th...</td>\n",
       "      <td>female</td>\n",
       "      <td>38.0</td>\n",
       "      <td>1</td>\n",
       "      <td>0</td>\n",
       "      <td>PC 17599</td>\n",
       "      <td>71.2833</td>\n",
       "      <td>C85</td>\n",
       "      <td>C</td>\n",
       "    </tr>\n",
       "    <tr>\n",
       "      <th>2</th>\n",
       "      <td>3</td>\n",
       "      <td>1</td>\n",
       "      <td>3</td>\n",
       "      <td>Heikkinen, Miss. Laina</td>\n",
       "      <td>female</td>\n",
       "      <td>26.0</td>\n",
       "      <td>0</td>\n",
       "      <td>0</td>\n",
       "      <td>STON/O2. 3101282</td>\n",
       "      <td>7.9250</td>\n",
       "      <td>NaN</td>\n",
       "      <td>S</td>\n",
       "    </tr>\n",
       "    <tr>\n",
       "      <th>3</th>\n",
       "      <td>4</td>\n",
       "      <td>1</td>\n",
       "      <td>1</td>\n",
       "      <td>Futrelle, Mrs. Jacques Heath (Lily May Peel)</td>\n",
       "      <td>female</td>\n",
       "      <td>35.0</td>\n",
       "      <td>1</td>\n",
       "      <td>0</td>\n",
       "      <td>113803</td>\n",
       "      <td>53.1000</td>\n",
       "      <td>C123</td>\n",
       "      <td>S</td>\n",
       "    </tr>\n",
       "    <tr>\n",
       "      <th>4</th>\n",
       "      <td>5</td>\n",
       "      <td>0</td>\n",
       "      <td>3</td>\n",
       "      <td>Allen, Mr. William Henry</td>\n",
       "      <td>male</td>\n",
       "      <td>35.0</td>\n",
       "      <td>0</td>\n",
       "      <td>0</td>\n",
       "      <td>373450</td>\n",
       "      <td>8.0500</td>\n",
       "      <td>NaN</td>\n",
       "      <td>S</td>\n",
       "    </tr>\n",
       "  </tbody>\n",
       "</table>\n",
       "</div>"
      ],
      "text/plain": [
       "   PassengerId  Survived  Pclass  \\\n",
       "0            1         0       3   \n",
       "1            2         1       1   \n",
       "2            3         1       3   \n",
       "3            4         1       1   \n",
       "4            5         0       3   \n",
       "\n",
       "                                                Name     Sex   Age  SibSp  \\\n",
       "0                            Braund, Mr. Owen Harris    male  22.0      1   \n",
       "1  Cumings, Mrs. John Bradley (Florence Briggs Th...  female  38.0      1   \n",
       "2                             Heikkinen, Miss. Laina  female  26.0      0   \n",
       "3       Futrelle, Mrs. Jacques Heath (Lily May Peel)  female  35.0      1   \n",
       "4                           Allen, Mr. William Henry    male  35.0      0   \n",
       "\n",
       "   Parch            Ticket     Fare Cabin Embarked  \n",
       "0      0         A/5 21171   7.2500   NaN        S  \n",
       "1      0          PC 17599  71.2833   C85        C  \n",
       "2      0  STON/O2. 3101282   7.9250   NaN        S  \n",
       "3      0            113803  53.1000  C123        S  \n",
       "4      0            373450   8.0500   NaN        S  "
      ]
     },
     "execution_count": 1,
     "metadata": {},
     "output_type": "execute_result"
    }
   ],
   "source": [
    "# import all required modules for this analysis\n",
    "import matplotlib.pyplot as plt\n",
    "import numpy as np\n",
    "import seaborn as sns\n",
    "import pandas as pd\n",
    "\n",
    "# read CSV data into Pandas dataframe\n",
    "titanic_df = pd.read_csv('titanic-data.csv')\n",
    "\n",
    "# list some rows from the dataframe\n",
    "titanic_df.head()"
   ]
  },
  {
   "cell_type": "markdown",
   "metadata": {},
   "source": [
    "With the dataset successfully loaded into the pandas dataframe `titanic_df`, column counts can be made to check for missing values"
   ]
  },
  {
   "cell_type": "code",
   "execution_count": 2,
   "metadata": {},
   "outputs": [
    {
     "data": {
      "text/plain": [
       "PassengerId    891\n",
       "Survived       891\n",
       "Pclass         891\n",
       "Name           891\n",
       "Sex            891\n",
       "Age            714\n",
       "SibSp          891\n",
       "Parch          891\n",
       "Ticket         891\n",
       "Fare           891\n",
       "Cabin          204\n",
       "Embarked       889\n",
       "dtype: int64"
      ]
     },
     "execution_count": 2,
     "metadata": {},
     "output_type": "execute_result"
    }
   ],
   "source": [
    "titanic_df.count()"
   ]
  },
  {
   "cell_type": "markdown",
   "metadata": {},
   "source": [
    "### Handling Missing Values\n",
    "\n",
    "From the column counts, it seems that `Age`, `Cabin`, and `Embarked` columns have missing values. Let us look at `Age`."
   ]
  },
  {
   "cell_type": "code",
   "execution_count": 3,
   "metadata": {},
   "outputs": [
    {
     "data": {
      "text/html": [
       "<div>\n",
       "<style>\n",
       "    .dataframe thead tr:only-child th {\n",
       "        text-align: right;\n",
       "    }\n",
       "\n",
       "    .dataframe thead th {\n",
       "        text-align: left;\n",
       "    }\n",
       "\n",
       "    .dataframe tbody tr th {\n",
       "        vertical-align: top;\n",
       "    }\n",
       "</style>\n",
       "<table border=\"1\" class=\"dataframe\">\n",
       "  <thead>\n",
       "    <tr style=\"text-align: right;\">\n",
       "      <th></th>\n",
       "      <th>PassengerId</th>\n",
       "      <th>Survived</th>\n",
       "      <th>Pclass</th>\n",
       "      <th>Name</th>\n",
       "      <th>Sex</th>\n",
       "      <th>Age</th>\n",
       "      <th>SibSp</th>\n",
       "      <th>Parch</th>\n",
       "      <th>Ticket</th>\n",
       "      <th>Fare</th>\n",
       "      <th>Cabin</th>\n",
       "      <th>Embarked</th>\n",
       "    </tr>\n",
       "  </thead>\n",
       "  <tbody>\n",
       "    <tr>\n",
       "      <th>5</th>\n",
       "      <td>6</td>\n",
       "      <td>0</td>\n",
       "      <td>3</td>\n",
       "      <td>Moran, Mr. James</td>\n",
       "      <td>male</td>\n",
       "      <td>NaN</td>\n",
       "      <td>0</td>\n",
       "      <td>0</td>\n",
       "      <td>330877</td>\n",
       "      <td>8.4583</td>\n",
       "      <td>NaN</td>\n",
       "      <td>Q</td>\n",
       "    </tr>\n",
       "    <tr>\n",
       "      <th>17</th>\n",
       "      <td>18</td>\n",
       "      <td>1</td>\n",
       "      <td>2</td>\n",
       "      <td>Williams, Mr. Charles Eugene</td>\n",
       "      <td>male</td>\n",
       "      <td>NaN</td>\n",
       "      <td>0</td>\n",
       "      <td>0</td>\n",
       "      <td>244373</td>\n",
       "      <td>13.0000</td>\n",
       "      <td>NaN</td>\n",
       "      <td>S</td>\n",
       "    </tr>\n",
       "    <tr>\n",
       "      <th>19</th>\n",
       "      <td>20</td>\n",
       "      <td>1</td>\n",
       "      <td>3</td>\n",
       "      <td>Masselmani, Mrs. Fatima</td>\n",
       "      <td>female</td>\n",
       "      <td>NaN</td>\n",
       "      <td>0</td>\n",
       "      <td>0</td>\n",
       "      <td>2649</td>\n",
       "      <td>7.2250</td>\n",
       "      <td>NaN</td>\n",
       "      <td>C</td>\n",
       "    </tr>\n",
       "    <tr>\n",
       "      <th>26</th>\n",
       "      <td>27</td>\n",
       "      <td>0</td>\n",
       "      <td>3</td>\n",
       "      <td>Emir, Mr. Farred Chehab</td>\n",
       "      <td>male</td>\n",
       "      <td>NaN</td>\n",
       "      <td>0</td>\n",
       "      <td>0</td>\n",
       "      <td>2631</td>\n",
       "      <td>7.2250</td>\n",
       "      <td>NaN</td>\n",
       "      <td>C</td>\n",
       "    </tr>\n",
       "    <tr>\n",
       "      <th>28</th>\n",
       "      <td>29</td>\n",
       "      <td>1</td>\n",
       "      <td>3</td>\n",
       "      <td>O'Dwyer, Miss. Ellen \"Nellie\"</td>\n",
       "      <td>female</td>\n",
       "      <td>NaN</td>\n",
       "      <td>0</td>\n",
       "      <td>0</td>\n",
       "      <td>330959</td>\n",
       "      <td>7.8792</td>\n",
       "      <td>NaN</td>\n",
       "      <td>Q</td>\n",
       "    </tr>\n",
       "  </tbody>\n",
       "</table>\n",
       "</div>"
      ],
      "text/plain": [
       "    PassengerId  Survived  Pclass                           Name     Sex  Age  \\\n",
       "5             6         0       3               Moran, Mr. James    male  NaN   \n",
       "17           18         1       2   Williams, Mr. Charles Eugene    male  NaN   \n",
       "19           20         1       3        Masselmani, Mrs. Fatima  female  NaN   \n",
       "26           27         0       3        Emir, Mr. Farred Chehab    male  NaN   \n",
       "28           29         1       3  O'Dwyer, Miss. Ellen \"Nellie\"  female  NaN   \n",
       "\n",
       "    SibSp  Parch  Ticket     Fare Cabin Embarked  \n",
       "5       0      0  330877   8.4583   NaN        Q  \n",
       "17      0      0  244373  13.0000   NaN        S  \n",
       "19      0      0    2649   7.2250   NaN        C  \n",
       "26      0      0    2631   7.2250   NaN        C  \n",
       "28      0      0  330959   7.8792   NaN        Q  "
      ]
     },
     "execution_count": 3,
     "metadata": {},
     "output_type": "execute_result"
    }
   ],
   "source": [
    "# list some rows with null Ages\n",
    "titanic_df[titanic_df['Age'].isnull()].head()"
   ]
  },
  {
   "cell_type": "markdown",
   "metadata": {},
   "source": [
    "There are 177 missing values from Age column, with no obvious pattern. The 3 possible steps to handle the missing values would be to either ignore the missing values, ignore the entire rows containing the missing values, or substitute the mean for the missing values.\n",
    "\n",
    "As the proportion of missing ages is high (almost 20%) and `Age` could represent an important aspect of a passenger, it may not be appropriate to ignore or drop the passenger records where `Age` is missing. Further exploration depending on the analysis, is required to determine how the missing `Age` records can be interpreted or substituted. This will be dealt with later in the exploration.\n",
    "\n",
    "Exploring `Cabin` below,"
   ]
  },
  {
   "cell_type": "code",
   "execution_count": 4,
   "metadata": {},
   "outputs": [
    {
     "data": {
      "text/plain": [
       "204"
      ]
     },
     "execution_count": 4,
     "metadata": {},
     "output_type": "execute_result"
    }
   ],
   "source": [
    "# list the number of rows that have Cabin values\n",
    "len(titanic_df[titanic_df['Cabin'].notnull()])"
   ]
  },
  {
   "cell_type": "markdown",
   "metadata": {},
   "source": [
    "For `Cabin`, it is observed that only 204 records are populated. That means only approximately 23% of the 891 records have `Cabin` data. Since `Cabin` numbers provide an indication of the location of the passenger at the time of sinking (circa 2340h<sup>[2](#fn2)</sup>), it could still be useful to analyse this variable for patterns separately.\n",
    "\n",
    "However, without additional information external to the dataset, to rebuild or interpolate the missing `Cabin` information for the other passengers would be challenging. One possibility would be to estimate the `Cabin` variable based on `Pclass`, `Ticket`, and `Fare` variables through machine learning - which is beyond the scope of this study.\n",
    "\n",
    "For `Embarked`,"
   ]
  },
  {
   "cell_type": "code",
   "execution_count": 5,
   "metadata": {},
   "outputs": [
    {
     "data": {
      "text/html": [
       "<div>\n",
       "<style>\n",
       "    .dataframe thead tr:only-child th {\n",
       "        text-align: right;\n",
       "    }\n",
       "\n",
       "    .dataframe thead th {\n",
       "        text-align: left;\n",
       "    }\n",
       "\n",
       "    .dataframe tbody tr th {\n",
       "        vertical-align: top;\n",
       "    }\n",
       "</style>\n",
       "<table border=\"1\" class=\"dataframe\">\n",
       "  <thead>\n",
       "    <tr style=\"text-align: right;\">\n",
       "      <th></th>\n",
       "      <th>PassengerId</th>\n",
       "      <th>Survived</th>\n",
       "      <th>Pclass</th>\n",
       "      <th>Name</th>\n",
       "      <th>Sex</th>\n",
       "      <th>Age</th>\n",
       "      <th>SibSp</th>\n",
       "      <th>Parch</th>\n",
       "      <th>Ticket</th>\n",
       "      <th>Fare</th>\n",
       "      <th>Cabin</th>\n",
       "      <th>Embarked</th>\n",
       "    </tr>\n",
       "  </thead>\n",
       "  <tbody>\n",
       "    <tr>\n",
       "      <th>61</th>\n",
       "      <td>62</td>\n",
       "      <td>1</td>\n",
       "      <td>1</td>\n",
       "      <td>Icard, Miss. Amelie</td>\n",
       "      <td>female</td>\n",
       "      <td>38.0</td>\n",
       "      <td>0</td>\n",
       "      <td>0</td>\n",
       "      <td>113572</td>\n",
       "      <td>80.0</td>\n",
       "      <td>B28</td>\n",
       "      <td>NaN</td>\n",
       "    </tr>\n",
       "    <tr>\n",
       "      <th>829</th>\n",
       "      <td>830</td>\n",
       "      <td>1</td>\n",
       "      <td>1</td>\n",
       "      <td>Stone, Mrs. George Nelson (Martha Evelyn)</td>\n",
       "      <td>female</td>\n",
       "      <td>62.0</td>\n",
       "      <td>0</td>\n",
       "      <td>0</td>\n",
       "      <td>113572</td>\n",
       "      <td>80.0</td>\n",
       "      <td>B28</td>\n",
       "      <td>NaN</td>\n",
       "    </tr>\n",
       "  </tbody>\n",
       "</table>\n",
       "</div>"
      ],
      "text/plain": [
       "     PassengerId  Survived  Pclass                                       Name  \\\n",
       "61            62         1       1                        Icard, Miss. Amelie   \n",
       "829          830         1       1  Stone, Mrs. George Nelson (Martha Evelyn)   \n",
       "\n",
       "        Sex   Age  SibSp  Parch  Ticket  Fare Cabin Embarked  \n",
       "61   female  38.0      0      0  113572  80.0   B28      NaN  \n",
       "829  female  62.0      0      0  113572  80.0   B28      NaN  "
      ]
     },
     "execution_count": 5,
     "metadata": {},
     "output_type": "execute_result"
    }
   ],
   "source": [
    "# list the rows with missing Embarkation port\n",
    "titanic_df[titanic_df['Embarked'].isnull()]"
   ]
  },
  {
   "cell_type": "markdown",
   "metadata": {},
   "source": [
    "Only 2 records have `Embarked` as null. Interestingly, the 2 records seem to be somewhat related. Both passengers survived, are female, and are likely travelling together (same ticket and cabin), although they are not of parent/child relation. If the assumption that they are travelling together is true, it is likely that they embarked at the same port. Given these factors, the modal port of embarkation is imputed."
   ]
  },
  {
   "cell_type": "code",
   "execution_count": 6,
   "metadata": {},
   "outputs": [
    {
     "data": {
      "text/html": [
       "<div>\n",
       "<style>\n",
       "    .dataframe thead tr:only-child th {\n",
       "        text-align: right;\n",
       "    }\n",
       "\n",
       "    .dataframe thead th {\n",
       "        text-align: left;\n",
       "    }\n",
       "\n",
       "    .dataframe tbody tr th {\n",
       "        vertical-align: top;\n",
       "    }\n",
       "</style>\n",
       "<table border=\"1\" class=\"dataframe\">\n",
       "  <thead>\n",
       "    <tr style=\"text-align: right;\">\n",
       "      <th></th>\n",
       "      <th>PassengerId</th>\n",
       "    </tr>\n",
       "    <tr>\n",
       "      <th>Embarked</th>\n",
       "      <th></th>\n",
       "    </tr>\n",
       "  </thead>\n",
       "  <tbody>\n",
       "    <tr>\n",
       "      <th>C</th>\n",
       "      <td>168</td>\n",
       "    </tr>\n",
       "    <tr>\n",
       "      <th>Q</th>\n",
       "      <td>77</td>\n",
       "    </tr>\n",
       "    <tr>\n",
       "      <th>S</th>\n",
       "      <td>644</td>\n",
       "    </tr>\n",
       "  </tbody>\n",
       "</table>\n",
       "</div>"
      ],
      "text/plain": [
       "          PassengerId\n",
       "Embarked             \n",
       "C                 168\n",
       "Q                  77\n",
       "S                 644"
      ]
     },
     "execution_count": 6,
     "metadata": {},
     "output_type": "execute_result"
    }
   ],
   "source": [
    "# list the modal embarkation port\n",
    "titanic_df[['Embarked', 'PassengerId']].groupby('Embarked').count()"
   ]
  },
  {
   "cell_type": "code",
   "execution_count": 7,
   "metadata": {},
   "outputs": [
    {
     "data": {
      "text/plain": [
       "891"
      ]
     },
     "execution_count": 7,
     "metadata": {},
     "output_type": "execute_result"
    }
   ],
   "source": [
    "# impute the missing values with \"S'; note that .fillna() can be used also\n",
    "titanic_df.set_value(61, 'Embarked', 'S')\n",
    "titanic_df.set_value(829, 'Embarked', 'S')\n",
    "\n",
    "# check that all Embarked values are set\n",
    "titanic_df['Embarked'].count()"
   ]
  },
  {
   "cell_type": "markdown",
   "metadata": {},
   "source": [
    "## Who were the passengers?\n",
    "\n",
    "This section explores the passengers on-board the titanic, based on the sample of passenger data. By gender, there are 314 female and 577 male passengers."
   ]
  },
  {
   "cell_type": "code",
   "execution_count": 8,
   "metadata": {},
   "outputs": [
    {
     "data": {
      "image/png": "[encoded data removed]",
      "text/plain": [
       "<matplotlib.figure.Figure at 0x7f22b69f6a20>"
      ]
     },
     "metadata": {},
     "output_type": "display_data"
    }
   ],
   "source": [
    "# get the number of male and female passengers\n",
    "sizes = titanic_df.loc[:, ['PassengerId', 'Sex']].groupby('Sex').count()\n",
    "\n",
    "plt.figure(figsize=(5,5))\n",
    "plt.title('Proportion of males and females on-board')\n",
    "plt.pie(sizes, explode=(0, 0.1), labels=sizes.index.values, autopct='%1.1f%%', shadow=True, startangle=90)\n",
    "plt.show()"
   ]
  },
  {
   "cell_type": "markdown",
   "metadata": {},
   "source": [
    "### Passenger Class and Fares\n",
    "\n",
    "Although the currency paid at the time (1912) was pre-decimalised, the fare data is recorded in this dataset are decimalised amounts <sup>[3](#fn3)</sup>. The mean fare paid by each passenger is £32.2 and median fare is £14.5.\n",
    "\n",
    "The passengers are split into 3 socio-economic classes - from First (highest) to Third. The following breakdown shows the distribution of fares.\n",
    "\n",
    "Third-class passengers make up more than half of the total passengers (55%), with the first and second classes roughly in equal proportion (24% and 21% respectively).\n",
    "\n",
    "Comparing median (50th percentile) fares, first-class passengers pay 4 times the fare compared to second, and almost 8 times compared to third.\n",
    "\n",
    "In all classes, the standard deviation of fares are relatively large considering the median fare prices - indicating that prices vary widely."
   ]
  },
  {
   "cell_type": "code",
   "execution_count": 9,
   "metadata": {},
   "outputs": [
    {
     "name": "stdout",
     "output_type": "stream",
     "text": [
      "Mean fare  : £32.20 \n",
      "Median fare: £14.45\n"
     ]
    },
    {
     "data": {
      "text/html": [
       "<div>\n",
       "<style>\n",
       "    .dataframe thead tr:only-child th {\n",
       "        text-align: right;\n",
       "    }\n",
       "\n",
       "    .dataframe thead th {\n",
       "        text-align: left;\n",
       "    }\n",
       "\n",
       "    .dataframe tbody tr th {\n",
       "        vertical-align: top;\n",
       "    }\n",
       "</style>\n",
       "<table border=\"1\" class=\"dataframe\">\n",
       "  <thead>\n",
       "    <tr style=\"text-align: right;\">\n",
       "      <th></th>\n",
       "      <th>count</th>\n",
       "      <th>mean</th>\n",
       "      <th>std</th>\n",
       "      <th>min</th>\n",
       "      <th>25%</th>\n",
       "      <th>50%</th>\n",
       "      <th>75%</th>\n",
       "      <th>max</th>\n",
       "    </tr>\n",
       "    <tr>\n",
       "      <th>Pclass</th>\n",
       "      <th></th>\n",
       "      <th></th>\n",
       "      <th></th>\n",
       "      <th></th>\n",
       "      <th></th>\n",
       "      <th></th>\n",
       "      <th></th>\n",
       "      <th></th>\n",
       "    </tr>\n",
       "  </thead>\n",
       "  <tbody>\n",
       "    <tr>\n",
       "      <th>1</th>\n",
       "      <td>216.0</td>\n",
       "      <td>84.154687</td>\n",
       "      <td>78.380373</td>\n",
       "      <td>0.0</td>\n",
       "      <td>30.92395</td>\n",
       "      <td>60.2875</td>\n",
       "      <td>93.5</td>\n",
       "      <td>512.3292</td>\n",
       "    </tr>\n",
       "    <tr>\n",
       "      <th>2</th>\n",
       "      <td>184.0</td>\n",
       "      <td>20.662183</td>\n",
       "      <td>13.417399</td>\n",
       "      <td>0.0</td>\n",
       "      <td>13.00000</td>\n",
       "      <td>14.2500</td>\n",
       "      <td>26.0</td>\n",
       "      <td>73.5000</td>\n",
       "    </tr>\n",
       "    <tr>\n",
       "      <th>3</th>\n",
       "      <td>491.0</td>\n",
       "      <td>13.675550</td>\n",
       "      <td>11.778142</td>\n",
       "      <td>0.0</td>\n",
       "      <td>7.75000</td>\n",
       "      <td>8.0500</td>\n",
       "      <td>15.5</td>\n",
       "      <td>69.5500</td>\n",
       "    </tr>\n",
       "  </tbody>\n",
       "</table>\n",
       "</div>"
      ],
      "text/plain": [
       "        count       mean        std  min       25%      50%   75%       max\n",
       "Pclass                                                                     \n",
       "1       216.0  84.154687  78.380373  0.0  30.92395  60.2875  93.5  512.3292\n",
       "2       184.0  20.662183  13.417399  0.0  13.00000  14.2500  26.0   73.5000\n",
       "3       491.0  13.675550  11.778142  0.0   7.75000   8.0500  15.5   69.5500"
      ]
     },
     "execution_count": 9,
     "metadata": {},
     "output_type": "execute_result"
    }
   ],
   "source": [
    "print('Mean fare  : £{:0.2f} \\nMedian fare: £{:0.2f}'.format(\n",
    "    titanic_df['Fare'].mean(), titanic_df['Fare'].median()))\n",
    "\n",
    "# describe the fare, grouped by Pclass\n",
    "titanic_df.groupby('Pclass')['Fare'].describe()"
   ]
  },
  {
   "cell_type": "markdown",
   "metadata": {},
   "source": [
    "### Clustering Passengers\n",
    "\n",
    "As cruise ship passengers generally do not travel alone, some form of clustering the passengers into logical groups will be helpful in analysis.\n",
    "\n",
    "**Family Members**\n",
    "\n",
    "By summing up the `SibSp` and `Parch` columns, we can obtain an estimate of the number of family members of each passenger on board, excluding the passenger. A new dependent variable, `Fmem` is created. Individual families cannot be identified based on this new column, however it could be useful for analysis in relation to other factors, e.g. survival."
   ]
  },
  {
   "cell_type": "code",
   "execution_count": 10,
   "metadata": {
    "collapsed": true
   },
   "outputs": [],
   "source": [
    "# create family size dependent variable\n",
    "\n",
    "titanic_df['Fmem'] = titanic_df['SibSp'] + titanic_df['Parch']\n",
    "\n",
    "# to get group size, first a separate dataframe with group size info,\n",
    "# and then perform a join\n",
    "\n",
    "ticket_groups = titanic_df.loc[:, ['Ticket', 'PassengerId']] \\\n",
    "                            .groupby('Ticket').count() \\\n",
    "                            .rename(columns={'PassengerId':'Gsize'})\n",
    "\n",
    "# join here, reset index to column\n",
    "titanic_df = titanic_df.merge(ticket_groups.reset_index(), how='outer')\n",
    "\n",
    "# verification check\n",
    "# titanic_df.query('Ticket == \"113781\"')"
   ]
  },
  {
   "cell_type": "code",
   "execution_count": 11,
   "metadata": {},
   "outputs": [
    {
     "data": {
      "text/html": [
       "<div>\n",
       "<style>\n",
       "    .dataframe thead tr:only-child th {\n",
       "        text-align: right;\n",
       "    }\n",
       "\n",
       "    .dataframe thead th {\n",
       "        text-align: left;\n",
       "    }\n",
       "\n",
       "    .dataframe tbody tr th {\n",
       "        vertical-align: top;\n",
       "    }\n",
       "</style>\n",
       "<table border=\"1\" class=\"dataframe\">\n",
       "  <thead>\n",
       "    <tr style=\"text-align: right;\">\n",
       "      <th></th>\n",
       "      <th>Fmem</th>\n",
       "    </tr>\n",
       "  </thead>\n",
       "  <tbody>\n",
       "    <tr>\n",
       "      <th>count</th>\n",
       "      <td>891.000000</td>\n",
       "    </tr>\n",
       "    <tr>\n",
       "      <th>mean</th>\n",
       "      <td>0.904602</td>\n",
       "    </tr>\n",
       "    <tr>\n",
       "      <th>std</th>\n",
       "      <td>1.613459</td>\n",
       "    </tr>\n",
       "    <tr>\n",
       "      <th>min</th>\n",
       "      <td>0.000000</td>\n",
       "    </tr>\n",
       "    <tr>\n",
       "      <th>25%</th>\n",
       "      <td>0.000000</td>\n",
       "    </tr>\n",
       "    <tr>\n",
       "      <th>50%</th>\n",
       "      <td>0.000000</td>\n",
       "    </tr>\n",
       "    <tr>\n",
       "      <th>75%</th>\n",
       "      <td>1.000000</td>\n",
       "    </tr>\n",
       "    <tr>\n",
       "      <th>max</th>\n",
       "      <td>10.000000</td>\n",
       "    </tr>\n",
       "  </tbody>\n",
       "</table>\n",
       "</div>"
      ],
      "text/plain": [
       "             Fmem\n",
       "count  891.000000\n",
       "mean     0.904602\n",
       "std      1.613459\n",
       "min      0.000000\n",
       "25%      0.000000\n",
       "50%      0.000000\n",
       "75%      1.000000\n",
       "max     10.000000"
      ]
     },
     "execution_count": 11,
     "metadata": {},
     "output_type": "execute_result"
    }
   ],
   "source": [
    "titanic_df[['Fmem']].describe()"
   ]
  },
  {
   "cell_type": "code",
   "execution_count": 12,
   "metadata": {
    "scrolled": false
   },
   "outputs": [
    {
     "data": {
      "text/plain": [
       "2.2768361581920904"
      ]
     },
     "execution_count": 12,
     "metadata": {},
     "output_type": "execute_result"
    }
   ],
   "source": [
    "# for passengers travelling with family members, show the mean number of family members\n",
    "titanic_df.query('Fmem > 0').loc[:,'Fmem'].mean()"
   ]
  },
  {
   "cell_type": "markdown",
   "metadata": {},
   "source": [
    "Excluding the passengers 537 with zero family members on-board, the average number of family members is 2.28. The mean family size, inclusive of the passenger is then 3.28.\n",
    "\n",
    "**Travel Group Size**\n",
    "\n",
    "With duplicate ticket numbers, the passengers can be grouped and the group sizes counted. The assumption is passengers in the same travel group share the same ticket number. A new dependent variable, `Gsize` is created.\n",
    "\n",
    "There are 547 passengers travelling alone, and the average group size is 3.0.\n",
    "\n",
    "There are differences in the two clustering methods however. Notably that the maximum family size is 10, but the maximum travel group size is 7. A possible explanation would be that since the analysed data is a subset of the whole passenger data, this inconsistent portion could be due to missing data. Another explanation would be that the tickets could have been purchased separately."
   ]
  },
  {
   "cell_type": "code",
   "execution_count": 13,
   "metadata": {},
   "outputs": [
    {
     "data": {
      "text/html": [
       "<div>\n",
       "<style>\n",
       "    .dataframe thead tr:only-child th {\n",
       "        text-align: right;\n",
       "    }\n",
       "\n",
       "    .dataframe thead th {\n",
       "        text-align: left;\n",
       "    }\n",
       "\n",
       "    .dataframe tbody tr th {\n",
       "        vertical-align: top;\n",
       "    }\n",
       "</style>\n",
       "<table border=\"1\" class=\"dataframe\">\n",
       "  <thead>\n",
       "    <tr style=\"text-align: right;\">\n",
       "      <th></th>\n",
       "      <th>Gsize</th>\n",
       "    </tr>\n",
       "  </thead>\n",
       "  <tbody>\n",
       "    <tr>\n",
       "      <th>count</th>\n",
       "      <td>891.000000</td>\n",
       "    </tr>\n",
       "    <tr>\n",
       "      <th>mean</th>\n",
       "      <td>1.787879</td>\n",
       "    </tr>\n",
       "    <tr>\n",
       "      <th>std</th>\n",
       "      <td>1.361142</td>\n",
       "    </tr>\n",
       "    <tr>\n",
       "      <th>min</th>\n",
       "      <td>1.000000</td>\n",
       "    </tr>\n",
       "    <tr>\n",
       "      <th>25%</th>\n",
       "      <td>1.000000</td>\n",
       "    </tr>\n",
       "    <tr>\n",
       "      <th>50%</th>\n",
       "      <td>1.000000</td>\n",
       "    </tr>\n",
       "    <tr>\n",
       "      <th>75%</th>\n",
       "      <td>2.000000</td>\n",
       "    </tr>\n",
       "    <tr>\n",
       "      <th>max</th>\n",
       "      <td>7.000000</td>\n",
       "    </tr>\n",
       "  </tbody>\n",
       "</table>\n",
       "</div>"
      ],
      "text/plain": [
       "            Gsize\n",
       "count  891.000000\n",
       "mean     1.787879\n",
       "std      1.361142\n",
       "min      1.000000\n",
       "25%      1.000000\n",
       "50%      1.000000\n",
       "75%      2.000000\n",
       "max      7.000000"
      ]
     },
     "execution_count": 13,
     "metadata": {},
     "output_type": "execute_result"
    }
   ],
   "source": [
    "titanic_df[['Gsize']].describe()"
   ]
  },
  {
   "cell_type": "code",
   "execution_count": 14,
   "metadata": {},
   "outputs": [
    {
     "data": {
      "text/plain": [
       "3.0406976744186047"
      ]
     },
     "execution_count": 14,
     "metadata": {},
     "output_type": "execute_result"
    }
   ],
   "source": [
    "titanic_df.query('Gsize > 1').loc[:, 'Gsize'].mean()"
   ]
  },
  {
   "cell_type": "markdown",
   "metadata": {},
   "source": [
    "### Age\n",
    "\n",
    "Passengers are on average 29.7 years old. The oldest is 80 years old and youngest is 4.8 months old (0.4 year old).\n",
    "\n",
    "The age histogram shows a bimodal distribution, with a peak at 0-4 years old (young children) and another at 20-24 years old (young adults). There are relatively few children 4-16 years old."
   ]
  },
  {
   "cell_type": "code",
   "execution_count": 15,
   "metadata": {},
   "outputs": [
    {
     "data": {
      "text/plain": [
       "count    714.000000\n",
       "mean      29.699118\n",
       "std       14.526497\n",
       "min        0.420000\n",
       "25%       20.125000\n",
       "50%       28.000000\n",
       "75%       38.000000\n",
       "max       80.000000\n",
       "Name: Age, dtype: float64"
      ]
     },
     "execution_count": 15,
     "metadata": {},
     "output_type": "execute_result"
    }
   ],
   "source": [
    "titanic_df['Age'].describe()"
   ]
  },
  {
   "cell_type": "code",
   "execution_count": 16,
   "metadata": {},
   "outputs": [
    {
     "data": {
      "image/png": "[encoded data removed]",
      "text/plain": [
       "<matplotlib.figure.Figure at 0x7f22b35a0240>"
      ]
     },
     "metadata": {},
     "output_type": "display_data"
    }
   ],
   "source": [
    "# get Age, ignore null values\n",
    "age_data = np.array(titanic_df['Age'].dropna().values)\n",
    "\n",
    "plt.hist(age_data, bins=20)\n",
    "plt.title('Age distribution')\n",
    "plt.ylabel('Frequency')\n",
    "plt.xlabel('Age')\n",
    "plt.show()"
   ]
  },
  {
   "cell_type": "markdown",
   "metadata": {},
   "source": [
    "## Factors influencing survivability\n",
    "\n",
    "### Does gender influence survivability?\n",
    "\n",
    "The number of survivors in this sample is 342, approximately 38.4%. Of the 342 survivors, 233 (68.1%) are females. Given that there are more males than females on board, this is an interesting finding - because we expect the proportion of females that survive to be similar to the proportion of females on-board."
   ]
  },
  {
   "cell_type": "code",
   "execution_count": 17,
   "metadata": {},
   "outputs": [
    {
     "name": "stdout",
     "output_type": "stream",
     "text": [
      "Average Survival Rate: 0.384\n"
     ]
    },
    {
     "data": {
      "image/png": "[encoded data removed]",
      "text/plain": [
       "<matplotlib.figure.Figure at 0x7f22b3554ef0>"
      ]
     },
     "metadata": {},
     "output_type": "display_data"
    }
   ],
   "source": [
    "# average survival rate of this sample\n",
    "survivors = titanic_df.query('Survived == 1')['Survived'].count()\n",
    "average_survival =  survivors / titanic_df['PassengerId'].count()\n",
    "\n",
    "print('Average Survival Rate: {:0.3f}'.format(average_survival))\n",
    "\n",
    "# Bar plot of survivors by gender\n",
    "N = 2\n",
    "keyData = ('Survived', 'Died')\n",
    "maleData = (109, 468)\n",
    "femaleData = (233, 81)\n",
    "ind = np.arange(N)    # the x locations for the groups\n",
    "width = 0.35       # the width of the bars: can also be len(x) sequence\n",
    "\n",
    "plt.figure(figsize=(5,5))\n",
    "\n",
    "p1 = plt.bar(ind, maleData, width, color='r')\n",
    "p2 = plt.bar(ind, femaleData, width, color='b', bottom=maleData)\n",
    "\n",
    "plt.ylabel('Passengers')\n",
    "plt.title('Survivors by Gender')\n",
    "plt.xticks(ind, keyData)\n",
    "plt.legend((p1[0], p2[0]), ('Males', 'Females'))\n",
    "\n",
    "plt.show()"
   ]
  },
  {
   "cell_type": "markdown",
   "metadata": {},
   "source": [
    "### Does passenger class influence survivability?\n",
    "\n",
    "There are 3 ticket classes - 1st, 2nd and 3rd. Analysing this in relation to survival below, it seems that passengers in the first class have higher survival rates and conversely, the largest proportion of those that did not survive were 3rd class passengers."
   ]
  },
  {
   "cell_type": "code",
   "execution_count": 18,
   "metadata": {},
   "outputs": [
    {
     "data": {
      "image/png": "[encoded data removed]",
      "text/plain": [
       "<matplotlib.figure.Figure at 0x7f22b34d4048>"
      ]
     },
     "metadata": {},
     "output_type": "display_data"
    }
   ],
   "source": [
    "N = 2\n",
    "keyData = ('Survived', 'Died')\n",
    "fcData = np.array([136, 80])\n",
    "scData = np.array([87, 97])\n",
    "tcData = np.array([119, 372])\n",
    "ind = np.arange(N)    # the x locations for the groups\n",
    "width = 0.35       # the width of the bars: can also be len(x) sequence\n",
    "\n",
    "p1 = plt.bar(ind, fcData, width, color='r')\n",
    "p2 = plt.bar(ind, scData, width, color='b', bottom=fcData)\n",
    "p3 = plt.bar(ind, tcData, width, color='k', bottom=fcData+scData)\n",
    "\n",
    "plt.ylabel('Passengers')\n",
    "plt.title('Survivors by Passenger Class')\n",
    "plt.xticks(ind, keyData)\n",
    "plt.legend((p1[0], p2[0], p3[0]), ('1st Class', '2nd Class', '3rd Class'))\n",
    "\n",
    "plt.show()"
   ]
  },
  {
   "cell_type": "code",
   "execution_count": 19,
   "metadata": {},
   "outputs": [
    {
     "name": "stdout",
     "output_type": "stream",
     "text": [
      "Survivors, 1st Class: 136, Survival rate: 0.630\n",
      "Survivors, 2nd Class: 87, Survival rate: 0.473\n",
      "Survivors, 3rd Class: 119, Survival rate: 0.242\n"
     ]
    }
   ],
   "source": [
    "# average survival rates by passenger class\n",
    "\n",
    "def passengers_by_class(Pclass):\n",
    "    return titanic_df.query('Pclass == ' + str(Pclass))['PassengerId'].count()\n",
    "\n",
    "def survivors_by_class(Pclass):\n",
    "    return titanic_df.query('Survived == 1 and Pclass == ' + str(Pclass))['Survived'].count()\n",
    "\n",
    "print('Survivors, 1st Class: {}, Survival rate: {:0.3f}'.format(survivors_by_class(1), survivors_by_class(1) / passengers_by_class(1)))\n",
    "print('Survivors, 2nd Class: {}, Survival rate: {:0.3f}'.format(survivors_by_class(2), survivors_by_class(2) / passengers_by_class(2)))\n",
    "print('Survivors, 3rd Class: {}, Survival rate: {:0.3f}'.format(survivors_by_class(3), survivors_by_class(3) / passengers_by_class(3)))\n"
   ]
  },
  {
   "cell_type": "markdown",
   "metadata": {},
   "source": [
    "The difference in survival can be explored by computing the survival rates 'scores' of each class. These findings are reasonably intuitive, noting that the higher the passenger class, the higher the survival rates.\n",
    "\n",
    "### Does travel group size or number of family members influence survivability?\n",
    "\n",
    "To analyze these 2 variables `Gsize` and `Fmem`, the survival rate corresponding to each group size (or number of family members) is computed as well."
   ]
  },
  {
   "cell_type": "code",
   "execution_count": 20,
   "metadata": {},
   "outputs": [
    {
     "data": {
      "image/png": "[encoded data removed]",
      "text/plain": [
       "<matplotlib.figure.Figure at 0x7f22b34165f8>"
      ]
     },
     "metadata": {},
     "output_type": "display_data"
    }
   ],
   "source": [
    "# calculate survival rates for each size, for both travel group and family\n",
    "def get_survivability(column):\n",
    "    return titanic_df[[column, 'Survived']].query('Survived == 1').groupby(column).count() / \\\n",
    "                titanic_df[[column, 'Survived']].groupby(column).count()\n",
    "    \n",
    "gsize_s_rates = get_survivability('Gsize')\n",
    "fmem_s_rates = get_survivability('Fmem')\n",
    "\n",
    "# plot survival rates\n",
    "\n",
    "gs, = plt.plot(gsize_s_rates, color='r')\n",
    "fm, = plt.plot(fmem_s_rates, color='b')\n",
    "plt.xlabel('Size of Group / Num. of Family Members')\n",
    "plt.ylabel('Survival Rate')\n",
    "plt.title('Comparing Group Size vs. Num. of Family Members')\n",
    "plt.legend([gs, fm], ['Group Sizes', 'Family Members'])\n",
    "plt.show()"
   ]
  },
  {
   "cell_type": "markdown",
   "metadata": {},
   "source": [
    "From the plot, it seems that survivability peaks at the same point, three for both group size and number of family members. It is also interesting to note that travelling alone (family members = 0, group size = 1), or having 4 or more family members on-board is associated with low survivability (less than 0.3).\n",
    "\n",
    "### Does age influence survivability?\n",
    "\n",
    "As `Age` has missing values, the analysis will be performed on a smaller data set without substituting the mean age.\n",
    "\n",
    "Instead of using survival rates, a more visual approach is used to explore the number of passengers who survived and died at any particular age bin."
   ]
  },
  {
   "cell_type": "code",
   "execution_count": 22,
   "metadata": {},
   "outputs": [
    {
     "data": {
      "image/png": "[encoded data removed]",
      "text/plain": [
       "<matplotlib.figure.Figure at 0x7f22b35a55f8>"
      ]
     },
     "metadata": {},
     "output_type": "display_data"
    }
   ],
   "source": [
    "# plot stacked histogram\n",
    "\n",
    "bins = np.linspace(0, 80, 20)\n",
    "\n",
    "survived = titanic_df[titanic_df.Survived == 1]['Age'].dropna()\n",
    "died = titanic_df[titanic_df.Survived == 0]['Age'].dropna()\n",
    "\n",
    "plt.hist(survived.values, bins, color='r', alpha=0.5)\n",
    "plt.hist(died.values, bins, color='b', alpha=0.5, histtype='step', stacked=True, fill=False)\n",
    "plt.xlabel('Age')\n",
    "plt.ylabel('No. of Passengers')\n",
    "plt.title('Survival by Age (Red), Death by Age (Blue)')\n",
    "plt.show()"
   ]
  },
  {
   "cell_type": "markdown",
   "metadata": {},
   "source": [
    "The histogram plot shows that survivors outnumber deaths at ages under 8. Survivability was low for all other ages and exceptionally low for the ages 20-28. This goes against common sense, because we would expect that children be less capable of surviving a disaster, compared to a young adult.\n",
    "\n",
    "While this shows that `Age` may not be a predictor of survivability in this case, it is interesting to note that the Titanic had limited rescue boats, and priority was given instead to those who were less capable of survival - i.e. young children.\n",
    "\n",
    "## Conclusion\n",
    "\n",
    "### Limitations\n",
    "\n",
    "As these results were based on a sample - it would be more accurate against the full data set. These analyses could be further corroborated with formal statistical testing.\n",
    "\n",
    "### Wrap Up\n",
    "\n",
    "In this report, we have explored a subset of Titanic passenger data, beginning with a general exploration of the passengers' gender, class and fares. It was also at this stage that it was recognised that the passengers could be  clustered for further analysis.\n",
    "\n",
    "Of the subsequent questions that were answered for survivability, some interesting results were obtained. First, it is more likely that a woman or child survived than for a male or adult person. And, that traveling as a group or having family members on board seems to correlate with increased chances of survival. Some results were obvious, like, the higher the passenger class, the survival rates increase."
   ]
  }
 ],
 "metadata": {
  "kernelspec": {
   "display_name": "Python [default]",
   "language": "python",
   "name": "python3"
  },
  "language_info": {
   "codemirror_mode": {
    "name": "ipython",
    "version": 3
   },
   "file_extension": ".py",
   "mimetype": "text/x-python",
   "name": "python",
   "nbconvert_exporter": "python",
   "pygments_lexer": "ipython3",
   "version": "3.6.2"
  }
 },
 "nbformat": 4,
 "nbformat_minor": 2
}
